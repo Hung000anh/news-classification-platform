{
 "cells": [
  {
   "cell_type": "code",
   "execution_count": 32,
   "id": "1e6094dc",
   "metadata": {},
   "outputs": [],
   "source": [
    "from sklearn.model_selection import GridSearchCV, StratifiedKFold, train_test_split\n",
    "from nltk.tokenize import word_tokenize\n",
    "from sklearn.feature_extraction.text import TfidfVectorizer\n",
    "from sklearn.multiclass import OneVsRestClassifier\n",
    "from sklearn.pipeline import Pipeline\n",
    "from sklearn.preprocessing import LabelEncoder\n",
    "from sklearn.linear_model import LogisticRegression\n",
    "from sklearn.metrics import (\n",
    "    classification_report, confusion_matrix, accuracy_score, f1_score\n",
    ")\n",
    "import numpy as np\n",
    "import pandas as pd\n",
    "import sys, os\n",
    "\n",
    "# ====== YOUR PREPROCESSOR ======\n",
    "sys.path.append(os.path.abspath(\"../..\"))\n",
    "from src.preprocessing import preprocess_text_fin\n"
   ]
  },
  {
   "cell_type": "code",
   "execution_count": 33,
   "id": "2f9ca6b5",
   "metadata": {},
   "outputs": [],
   "source": [
    "# ====== DATA ======\n",
    "DATA_PATH = \"../../data/data.csv\""
   ]
  },
  {
   "cell_type": "markdown",
   "id": "ecaa7925",
   "metadata": {},
   "source": [
    "# 1) Cấu hình chung (áp dụng cho mọi mô hình)\n",
    "\n",
    "**Lý do thiết kế TF-IDF & CV:**\n",
    "\n",
    "* **`ngram_range=(1,2)`**: câu ngắn → bigram bắt cụm giàu tín hiệu (“rose sharply”, “beat estimates”).\n",
    "* **`min_df∈{3,5,10}`**: lọc từ quá hiếm do tập chỉ \\~5.8k câu.\n",
    "* **`max_df∈{0.9,0.95}`**: loại từ quá phổ biến (gần stopword).\n",
    "* **`max_features∈{5k,10k,15k}`**: cân bằng bias/variance với cỡ dữ liệu \\~5.8k.\n",
    "* **`sublinear_tf=True`**: giảm “burstiness” của từ xuất hiện nhiều.\n",
    "* **`norm='l2'`**: phù hợp linear models trên dữ liệu sparse."
   ]
  },
  {
   "cell_type": "code",
   "execution_count": 34,
   "id": "3f97e796",
   "metadata": {},
   "outputs": [],
   "source": [
    "# Không chỉnh tokenizer trong grid để tránh lỗi set_params\n",
    "BASE_TFIDF = TfidfVectorizer(\n",
    "    tokenizer=word_tokenize,   # gắn với tiền xử lý text tiếng Anh\n",
    "    token_pattern=None,\n",
    "    use_idf=True\n",
    ")\n",
    "\n",
    "tfidf_space = {\n",
    "    \"tfidf__ngram_range\": [(1,1), (1,2)],       #ngram_range=(1,2): câu ngắn → bigram bắt cụm giàu tín hiệu (“rose sharply”, “beat estimates”).\n",
    "    \"tfidf__min_df\": [3, 5, 10],                #min_df∈{3,5,10}: lọc từ quá hiếm do tập chỉ ~5.8k câu.\n",
    "    \"tfidf__max_df\": [0.90, 0.95],              #max_df∈{0.9,0.95}: loại từ quá phổ biến (gần stopword).\n",
    "    \"tfidf__max_features\": [5000, 10000, 15000],#max_features∈{5k,10k,15k}: cân bằng bias/variance với cỡ dữ liệu ~5.8k.\n",
    "    \"tfidf__sublinear_tf\": [True],              #sublinear_tf=True: giảm “burstiness” của từ xuất hiện nhiều.\n",
    "    \"tfidf__norm\": [\"l2\"],                      #norm='l2': phù hợp linear models trên dữ liệu sparse.\n",
    "}"
   ]
  },
  {
   "cell_type": "markdown",
   "id": "53c8287a",
   "metadata": {},
   "source": [
    "# 2) Logistic Regression + TF-IDF (baseline mạnh)\n",
    "\n",
    "**Lý do chọn & tham số:**\n",
    "\n",
    "* LR rất hợp với vector TF-IDF high-dimensional; nhanh, ổn định.\n",
    "* **`C`** điều khiển regularization: dữ liệu 5.8k → cần quét từ chặt đến lỏng.\n",
    "* **`solver='liblinear'` + `multi_class='ovr'`**: ổn với sparse và 3 lớp.\n",
    "* **`class_weight='balanced'`**: bù lệch lớp"
   ]
  },
  {
   "cell_type": "code",
   "execution_count": 35,
   "id": "5d5de207",
   "metadata": {},
   "outputs": [],
   "source": [
    "from sklearn.linear_model import LogisticRegression\n",
    "\n",
    "pipe_lr = Pipeline([\n",
    "    (\"tfidf\", BASE_TFIDF),\n",
    "    (\"clf\", OneVsRestClassifier(\n",
    "        LogisticRegression(\n",
    "            solver=\"liblinear\",\n",
    "            penalty=\"l2\",\n",
    "            class_weight=\"balanced\",\n",
    "            max_iter=4000,\n",
    "        ),\n",
    "        n_jobs=-1\n",
    "    ))\n",
    "])\n",
    "\n",
    "\n",
    "param_grid_lr = {\n",
    "    **tfidf_space,\n",
    "    \"clf__estimator__C\": [0.01, 0.1, 0.5, 1.0, 2.0, 5.0, 10.0],\n",
    "}"
   ]
  },
  {
   "cell_type": "markdown",
   "id": "931832cb",
   "metadata": {},
   "source": [
    "# 3) Linear SVM (LinearSVC) + TF-IDF (mạnh với dữ liệu sparse)\n",
    "\n",
    "**Lý do & tham số:**\n",
    "\n",
    "* Linear SVM thường cho biên tốt trên TF-IDF.\n",
    "* **`C`** quét rộng để tìm margin tối ưu.\n",
    "* **`loss='squared_hinge'`** là chuẩn cho LinearSVC.\n",
    "* **`class_weight='balanced'`** xử lý lệch.\n"
   ]
  },
  {
   "cell_type": "code",
   "execution_count": 36,
   "id": "b2191c89",
   "metadata": {},
   "outputs": [],
   "source": [
    "from sklearn.svm import LinearSVC\n",
    "\n",
    "pipe_svm = Pipeline([\n",
    "    (\"tfidf\", BASE_TFIDF),\n",
    "    (\"clf\", LinearSVC(\n",
    "        loss=\"squared_hinge\",\n",
    "        class_weight=\"balanced\",\n",
    "        max_iter=4000\n",
    "    ))\n",
    "])\n",
    "\n",
    "param_grid_svm = {\n",
    "    **tfidf_space,\n",
    "    \"clf__C\": [0.01, 0.1, 0.5, 1.0, 2.0, 5.0, 10.0],\n",
    "}"
   ]
  },
  {
   "cell_type": "markdown",
   "id": "fd7096fd",
   "metadata": {},
   "source": [
    "# 4) Multinomial Naive Bayes + TF-IDF (baseline cực nhanh)\n",
    "\n",
    "**Lý do & tham số:**\n",
    "\n",
    "* MNB phù hợp xác suất từ; nhanh, nhẹ để làm baseline.\n",
    "* **`alpha`** (Laplace/Lidstone) rất quan trọng vì từ hiếm xuất hiện nhiều trong text ngắn → quét log-scale.\n",
    "* **`fit_prior`** bật/tắt để xem tác động của phân bố lớp lệch.\n"
   ]
  },
  {
   "cell_type": "code",
   "execution_count": 37,
   "id": "30e622db",
   "metadata": {},
   "outputs": [],
   "source": [
    "from sklearn.naive_bayes import MultinomialNB\n",
    "\n",
    "pipe_mnb = Pipeline([\n",
    "    (\"tfidf\", BASE_TFIDF),\n",
    "    (\"clf\", MultinomialNB())\n",
    "])\n",
    "\n",
    "param_grid_mnb = {\n",
    "    **tfidf_space,\n",
    "    \"clf__alpha\": [0.01, 0.1, 0.5, 1.0, 2.0, 5.0, 10.0],\n",
    "    \"clf__fit_prior\": [True, False],\n",
    "}"
   ]
  },
  {
   "cell_type": "markdown",
   "id": "365e6b1c",
   "metadata": {},
   "source": [
    "# 5) Random Forest + TF-IDF (khi có thêm feature phi-ngôn-ngữ)\n",
    "\n",
    "**Lý do & tham số:**\n",
    "\n",
    "* RF không lý tưởng nếu **chỉ** TF-IDF (quá high-dim). Tuy nhiên, nếu sau này anh **gộp thêm feature thống kê** (độ dài câu, số tiền, có/không dấu %) thì RF phát huy.\n",
    "* Dù vậy, để hoàn chỉnh benchmark, ta vẫn cho grid gọn, có **`class_weight='balanced_subsample'`** để bù lệch.\n"
   ]
  },
  {
   "cell_type": "code",
   "execution_count": null,
   "id": "f15cabde",
   "metadata": {},
   "outputs": [],
   "source": [
    "from sklearn.ensemble import RandomForestClassifier\n",
    "from sklearn.decomposition import TruncatedSVD\n",
    "pipe_rf = Pipeline([\n",
    "    (\"tfidf\", BASE_TFIDF),\n",
    "    (\"svd\", TruncatedSVD(random_state=42)),\n",
    "    (\"clf\", RandomForestClassifier(\n",
    "        n_jobs=-1,\n",
    "        class_weight=\"balanced_subsample\",\n",
    "        random_state=42\n",
    "    ))\n",
    "])\n",
    "\n",
    "param_grid_rf = {\n",
    "    **tfidf_space,\n",
    "    # SVD\n",
    "    \"svd__n_components\": [200, 300],\n",
    "\n",
    "    # RF (gọn mà hiệu quả)\n",
    "    \"clf__n_estimators\": [300],        # cố định\n",
    "}"
   ]
  },
  {
   "cell_type": "markdown",
   "id": "131e96cd",
   "metadata": {},
   "source": [
    "# 5) GridSearchCV"
   ]
  },
  {
   "cell_type": "code",
   "execution_count": 38,
   "id": "dc1a8908",
   "metadata": {},
   "outputs": [],
   "source": [
    "cv = StratifiedKFold(n_splits=5, shuffle=True, random_state=42)\n",
    "\n",
    "def run_gs(pipe, grid, X_train, y_train):\n",
    "    gs = GridSearchCV(\n",
    "        estimator=pipe,\n",
    "        param_grid=grid,\n",
    "        scoring=\"f1_macro\",\n",
    "        cv=cv,\n",
    "        n_jobs=-1,\n",
    "        verbose=1\n",
    "    )\n",
    "    gs.fit(X_train, y_train)\n",
    "    return gs"
   ]
  },
  {
   "cell_type": "markdown",
   "id": "1bea9362",
   "metadata": {},
   "source": [
    "# 6) Preprocessing "
   ]
  },
  {
   "cell_type": "code",
   "execution_count": 39,
   "id": "6159e74c",
   "metadata": {},
   "outputs": [],
   "source": [
    "def preprocess_csv(csv_file: str) -> pd.DataFrame:\n",
    "    df = pd.read_csv(csv_file)\n",
    "    df[\"labels\"] = LabelEncoder().fit_transform(df[\"Sentiment\"])\n",
    "    df.drop_duplicates(subset=[\"Sentence\"], keep=\"first\", inplace=True)\n",
    "    df[\"Sentence\"] = df[\"Sentence\"].astype(str).apply(preprocess_text_fin)\n",
    "    return df"
   ]
  },
  {
   "cell_type": "code",
   "execution_count": 40,
   "id": "368667a4",
   "metadata": {},
   "outputs": [],
   "source": [
    "df = preprocess_csv(DATA_PATH)\n",
    "X_train, X_test, y_train, y_test = train_test_split(\n",
    "    np.array(df[\"Sentence\"]),\n",
    "    np.array(df[\"labels\"]), \n",
    "    test_size=0.25, \n",
    "    random_state=42\n",
    "    )"
   ]
  },
  {
   "cell_type": "code",
   "execution_count": 51,
   "id": "93f1dc29",
   "metadata": {},
   "outputs": [
    {
     "name": "stdout",
     "output_type": "stream",
     "text": [
      "Fitting 5 folds for each of 252 candidates, totalling 1260 fits\n"
     ]
    }
   ],
   "source": [
    "gs_lr = run_gs(pipe_lr, param_grid_lr, X_train, y_train)"
   ]
  },
  {
   "cell_type": "code",
   "execution_count": 52,
   "id": "30d4f742",
   "metadata": {},
   "outputs": [
    {
     "name": "stdout",
     "output_type": "stream",
     "text": [
      "Fitting 5 folds for each of 252 candidates, totalling 1260 fits\n"
     ]
    }
   ],
   "source": [
    "gs_svm = run_gs(pipe_svm, param_grid_svm, X_train, y_train)"
   ]
  },
  {
   "cell_type": "code",
   "execution_count": null,
   "id": "23510303",
   "metadata": {},
   "outputs": [
    {
     "name": "stdout",
     "output_type": "stream",
     "text": [
      "Fitting 5 folds for each of 504 candidates, totalling 2520 fits\n"
     ]
    }
   ],
   "source": [
    "gs_mnb = run_gs(pipe_mnb, param_grid_mnb, X_train, y_train)"
   ]
  },
  {
   "cell_type": "code",
   "execution_count": 68,
   "id": "3359811d",
   "metadata": {},
   "outputs": [
    {
     "name": "stdout",
     "output_type": "stream",
     "text": [
      "Fitting 5 folds for each of 72 candidates, totalling 360 fits\n"
     ]
    },
    {
     "name": "stderr",
     "output_type": "stream",
     "text": [
      "c:\\Users\\hung0\\AppData\\Local\\Programs\\Python\\Python311\\Lib\\site-packages\\sklearn\\feature_extraction\\text.py:2043: UserWarning: Only (<class 'numpy.float64'>, <class 'numpy.float32'>, <class 'numpy.float16'>) 'dtype' should be used. float32 'dtype' will be converted to np.float64.\n",
      "  warnings.warn(\n"
     ]
    }
   ],
   "source": [
    "gs_rf = run_gs(pipe_rf, param_grid_rf, X_train, y_train)"
   ]
  },
  {
   "cell_type": "code",
   "execution_count": 42,
   "id": "b60aaf79",
   "metadata": {},
   "outputs": [],
   "source": [
    "import numpy as np\n",
    "import pandas as pd\n",
    "from sklearn.metrics import (\n",
    "    accuracy_score, f1_score, precision_score, recall_score,\n",
    "    classification_report, confusion_matrix, roc_auc_score\n",
    ")\n",
    "from sklearn.utils.multiclass import unique_labels\n",
    "\n",
    "# 1) Tóm tắt kết quả Cross-Validation (best) của nhiều GridSearch\n",
    "def summarize_cv_results(gridsearch_dict):\n",
    "    rows = []\n",
    "    for name, gs in gridsearch_dict.items():\n",
    "        rows.append({\n",
    "            \"model\": name,\n",
    "            \"cv_best_f1_macro\": gs.best_score_,\n",
    "            \"best_params\": gs.best_params_\n",
    "        })\n",
    "    df = pd.DataFrame(rows).sort_values(\"cv_best_f1_macro\", ascending=False)\n",
    "    print(\"\\n=== CV Best Summary (sorted by f1_macro) ===\")\n",
    "    print(df.to_string(index=False))\n",
    "    return df\n",
    "\n",
    "# 2) Đánh giá chi tiết trên tập test cho 1 GridSearch đã fit\n",
    "def evaluate_on_test(gs, X_test, y_test, model_name=\"Model\"):\n",
    "    best_est = gs.best_estimator_\n",
    "    y_pred   = best_est.predict(X_test)\n",
    "\n",
    "    # Thử lấy score cho ROC-AUC macro (ưu tiên predict_proba, fallback decision_function)\n",
    "    y_score = None\n",
    "    has_proba = hasattr(best_est, \"predict_proba\")\n",
    "    has_decision = hasattr(best_est, \"decision_function\")\n",
    "    if has_proba:\n",
    "        try:\n",
    "            y_score = best_est.predict_proba(X_test)\n",
    "        except Exception:\n",
    "            y_score = None\n",
    "    if (y_score is None) and has_decision:\n",
    "        try:\n",
    "            y_score = best_est.decision_function(X_test)\n",
    "        except Exception:\n",
    "            y_score = None\n",
    "\n",
    "    # Metrics cơ bản\n",
    "    acc   = accuracy_score(y_test, y_pred)\n",
    "    f1m   = f1_score(y_test, y_pred, average=\"macro\")\n",
    "    precm = precision_score(y_test, y_pred, average=\"macro\", zero_division=0)\n",
    "    recm  = recall_score(y_test, y_pred, average=\"macro\", zero_division=0)\n",
    "\n",
    "    # ROC-AUC macro (nếu có y_score nhiều lớp)\n",
    "    rocauc = None\n",
    "    if y_score is not None:\n",
    "        try:\n",
    "            rocauc = roc_auc_score(y_test, y_score, multi_class=\"ovo\", average=\"macro\")\n",
    "        except Exception:\n",
    "            rocauc = None\n",
    "\n",
    "    # In tổng quan\n",
    "    print(f\"\\n================= {model_name} =================\")\n",
    "    print(\"Best params:\", gs.best_params_)\n",
    "    print(f\"CV best f1_macro: {gs.best_score_:.4f}\")\n",
    "    print(f\"Test Accuracy   : {acc:.4f}\")\n",
    "    print(f\"Test F1-macro   : {f1m:.4f}\")\n",
    "    print(f\"Test Precision-m: {precm:.4f}\")\n",
    "    print(f\"Test Recall-m   : {recm:.4f}\")\n",
    "    if rocauc is not None:\n",
    "        print(f\"Test ROC-AUC-m  : {rocauc:.4f}\")\n",
    "\n",
    "    # Classification report\n",
    "    print(\"\\nClassification report:\")\n",
    "    print(classification_report(y_test, y_pred, digits=4, zero_division=0))\n",
    "\n",
    "    # Confusion matrix\n",
    "    cm = confusion_matrix(y_test, y_pred)\n",
    "    labels = unique_labels(y_test, y_pred)\n",
    "    print(\"Confusion matrix (rows=true, cols=pred):\")\n",
    "    print(pd.DataFrame(cm, index=[f\"true_{l}\" for l in labels],\n",
    "                          columns=[f\"pred_{l}\" for l in labels]).to_string())\n",
    "    return {\n",
    "        \"model\": model_name,\n",
    "        \"cv_best_f1_macro\": gs.best_score_,\n",
    "        \"test_accuracy\": acc,\n",
    "        \"test_f1_macro\": f1m,\n",
    "        \"test_precision_macro\": precm,\n",
    "        \"test_recall_macro\": recm,\n",
    "        \"test_roc_auc_macro\": rocauc,\n",
    "        \"best_params\": gs.best_params_\n",
    "    }\n",
    "\n",
    "# 3) Chạy đánh giá cho tất cả mô hình + bảng tổng hợp test\n",
    "def evaluate_all(gs_dict, X_test, y_test):\n",
    "    _ = summarize_cv_results(gs_dict)\n",
    "    test_rows = []\n",
    "    for name, gs in gs_dict.items():\n",
    "        res = evaluate_on_test(gs, X_test, y_test, model_name=name)\n",
    "        test_rows.append(res)\n",
    "    test_df = pd.DataFrame(test_rows).sort_values(\"test_f1_macro\", ascending=False)\n",
    "    print(\"\\n=== Test Summary (sorted by f1_macro) ===\")\n",
    "    print(test_df[[\"model\",\"cv_best_f1_macro\",\"test_f1_macro\",\"test_accuracy\",\"test_precision_macro\",\"test_recall_macro\",\"test_roc_auc_macro\"]].to_string(index=False))\n",
    "    return test_df\n"
   ]
  },
  {
   "cell_type": "code",
   "execution_count": 69,
   "id": "d6b9f1ad",
   "metadata": {},
   "outputs": [
    {
     "name": "stdout",
     "output_type": "stream",
     "text": [
      "\n",
      "=== CV Best Summary (sorted by f1_macro) ===\n",
      "              model  cv_best_f1_macro                                                                                                                                                                                                                            best_params\n",
      "Logistic Regression          0.651727                                                      {'clf__estimator__C': 1.0, 'tfidf__max_df': 0.9, 'tfidf__max_features': 5000, 'tfidf__min_df': 3, 'tfidf__ngram_range': (1, 1), 'tfidf__norm': 'l2', 'tfidf__sublinear_tf': True}\n",
      "          LinearSVM          0.646353                                                                 {'clf__C': 0.5, 'tfidf__max_df': 0.9, 'tfidf__max_features': 5000, 'tfidf__min_df': 3, 'tfidf__ngram_range': (1, 1), 'tfidf__norm': 'l2', 'tfidf__sublinear_tf': True}\n",
      "      MultinomialNB          0.626157                                    {'clf__alpha': 0.5, 'clf__fit_prior': False, 'tfidf__max_df': 0.9, 'tfidf__max_features': 5000, 'tfidf__min_df': 3, 'tfidf__ngram_range': (1, 1), 'tfidf__norm': 'l2', 'tfidf__sublinear_tf': True}\n",
      "       RandomForest          0.501117 {'clf__n_estimators': 300, 'svd__n_components': 200, 'tfidf__dtype': 'float32', 'tfidf__max_df': 0.9, 'tfidf__max_features': 5000, 'tfidf__min_df': 3, 'tfidf__ngram_range': (1, 2), 'tfidf__norm': 'l2', 'tfidf__sublinear_tf': True}\n",
      "\n",
      "================= Logistic Regression =================\n",
      "Best params: {'clf__estimator__C': 1.0, 'tfidf__max_df': 0.9, 'tfidf__max_features': 5000, 'tfidf__min_df': 3, 'tfidf__ngram_range': (1, 1), 'tfidf__norm': 'l2', 'tfidf__sublinear_tf': True}\n",
      "CV best f1_macro: 0.6517\n",
      "Test Accuracy   : 0.7423\n",
      "Test F1-macro   : 0.6943\n",
      "Test Precision-m: 0.6896\n",
      "Test Recall-m   : 0.7001\n",
      "Test ROC-AUC-m  : 0.8774\n",
      "\n",
      "Classification report:\n",
      "              precision    recall  f1-score   support\n",
      "\n",
      "           0     0.5410    0.6000    0.5690       165\n",
      "           1     0.8123    0.8123    0.8123       698\n",
      "           2     0.7156    0.6880    0.7015       468\n",
      "\n",
      "    accuracy                         0.7423      1331\n",
      "   macro avg     0.6896    0.7001    0.6943      1331\n",
      "weighted avg     0.7447    0.7423    0.7432      1331\n",
      "\n",
      "Confusion matrix (rows=true, cols=pred):\n",
      "        pred_0  pred_1  pred_2\n",
      "true_0      99      23      43\n",
      "true_1      46     567      85\n",
      "true_2      38     108     322\n",
      "\n",
      "================= LinearSVM =================\n",
      "Best params: {'clf__C': 0.5, 'tfidf__max_df': 0.9, 'tfidf__max_features': 5000, 'tfidf__min_df': 3, 'tfidf__ngram_range': (1, 1), 'tfidf__norm': 'l2', 'tfidf__sublinear_tf': True}\n",
      "CV best f1_macro: 0.6464\n",
      "Test Accuracy   : 0.7461\n",
      "Test F1-macro   : 0.6901\n",
      "Test Precision-m: 0.6898\n",
      "Test Recall-m   : 0.6909\n",
      "\n",
      "Classification report:\n",
      "              precision    recall  f1-score   support\n",
      "\n",
      "           0     0.5322    0.5515    0.5417       165\n",
      "           1     0.8070    0.8266    0.8167       698\n",
      "           2     0.7303    0.6944    0.7119       468\n",
      "\n",
      "    accuracy                         0.7461      1331\n",
      "   macro avg     0.6898    0.6909    0.6901      1331\n",
      "weighted avg     0.7460    0.7461    0.7458      1331\n",
      "\n",
      "Confusion matrix (rows=true, cols=pred):\n",
      "        pred_0  pred_1  pred_2\n",
      "true_0      91      31      43\n",
      "true_1      44     577      77\n",
      "true_2      36     107     325\n",
      "\n",
      "================= MultinomialNB =================\n",
      "Best params: {'clf__alpha': 0.5, 'clf__fit_prior': False, 'tfidf__max_df': 0.9, 'tfidf__max_features': 5000, 'tfidf__min_df': 3, 'tfidf__ngram_range': (1, 1), 'tfidf__norm': 'l2', 'tfidf__sublinear_tf': True}\n",
      "CV best f1_macro: 0.6262\n",
      "Test Accuracy   : 0.7107\n",
      "Test F1-macro   : 0.6581\n",
      "Test Precision-m: 0.6507\n",
      "Test Recall-m   : 0.6693\n",
      "Test ROC-AUC-m  : 0.8533\n",
      "\n",
      "Classification report:\n",
      "              precision    recall  f1-score   support\n",
      "\n",
      "           0     0.4653    0.5697    0.5123       165\n",
      "           1     0.7985    0.7779    0.7881       698\n",
      "           2     0.6882    0.6603    0.6739       468\n",
      "\n",
      "    accuracy                         0.7107      1331\n",
      "   macro avg     0.6507    0.6693    0.6581      1331\n",
      "weighted avg     0.7184    0.7107    0.7138      1331\n",
      "\n",
      "Confusion matrix (rows=true, cols=pred):\n",
      "        pred_0  pred_1  pred_2\n",
      "true_0      94      28      43\n",
      "true_1      58     543      97\n",
      "true_2      50     109     309\n",
      "\n",
      "================= RandomForest =================\n",
      "Best params: {'clf__n_estimators': 300, 'svd__n_components': 200, 'tfidf__dtype': 'float32', 'tfidf__max_df': 0.9, 'tfidf__max_features': 5000, 'tfidf__min_df': 3, 'tfidf__ngram_range': (1, 2), 'tfidf__norm': 'l2', 'tfidf__sublinear_tf': True}\n",
      "CV best f1_macro: 0.5011\n",
      "Test Accuracy   : 0.6822\n",
      "Test F1-macro   : 0.5262\n",
      "Test Precision-m: 0.6741\n",
      "Test Recall-m   : 0.5214\n",
      "Test ROC-AUC-m  : 0.8060\n",
      "\n",
      "Classification report:\n",
      "              precision    recall  f1-score   support\n",
      "\n",
      "           0     0.6774    0.1273    0.2143       165\n",
      "           1     0.6948    0.9327    0.7963       698\n",
      "           2     0.6501    0.5043    0.5680       468\n",
      "\n",
      "    accuracy                         0.6822      1331\n",
      "   macro avg     0.6741    0.5214    0.5262      1331\n",
      "weighted avg     0.6769    0.6822    0.6439      1331\n",
      "\n",
      "Confusion matrix (rows=true, cols=pred):\n",
      "        pred_0  pred_1  pred_2\n",
      "true_0      21      63      81\n",
      "true_1       1     651      46\n",
      "true_2       9     223     236\n",
      "\n",
      "=== Test Summary (sorted by f1_macro) ===\n",
      "              model  cv_best_f1_macro  test_f1_macro  test_accuracy  test_precision_macro  test_recall_macro  test_roc_auc_macro\n",
      "Logistic Regression          0.651727       0.694270       0.742299              0.689620           0.700118            0.877367\n",
      "          LinearSVM          0.646353       0.690102       0.746056              0.689831           0.690869                 NaN\n",
      "      MultinomialNB          0.626157       0.658099       0.710744              0.650691           0.669297            0.853308\n",
      "       RandomForest          0.501117       0.526202       0.682194              0.674109           0.521404            0.806002\n"
     ]
    }
   ],
   "source": [
    "gs_dict = {\n",
    "    \"Logistic Regression\": gs_lr,\n",
    "    \"LinearSVM\": gs_svm,\n",
    "    \"MultinomialNB\": gs_mnb,\n",
    "    \"RandomForest\": gs_rf,\n",
    "    # nếu có GradientBoosting: \"GradBoost\": gs_gb,\n",
    "}\n",
    "test_summary = evaluate_all(gs_dict, X_test, y_test)"
   ]
  }
 ],
 "metadata": {
  "kernelspec": {
   "display_name": "Python 3",
   "language": "python",
   "name": "python3"
  },
  "language_info": {
   "codemirror_mode": {
    "name": "ipython",
    "version": 3
   },
   "file_extension": ".py",
   "mimetype": "text/x-python",
   "name": "python",
   "nbconvert_exporter": "python",
   "pygments_lexer": "ipython3",
   "version": "3.11.9"
  }
 },
 "nbformat": 4,
 "nbformat_minor": 5
}
