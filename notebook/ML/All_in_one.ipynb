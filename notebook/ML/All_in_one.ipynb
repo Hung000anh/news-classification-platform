{
 "cells": [
  {
   "cell_type": "code",
   "execution_count": 131,
   "id": "1e6094dc",
   "metadata": {},
   "outputs": [],
   "source": [
    "from sklearn.model_selection import GridSearchCV, StratifiedKFold, train_test_split\n",
    "from nltk.tokenize import word_tokenize\n",
    "from sklearn.feature_extraction.text import TfidfVectorizer\n",
    "from sklearn.multiclass import OneVsRestClassifier\n",
    "from sklearn.pipeline import Pipeline\n",
    "from sklearn.preprocessing import LabelEncoder\n",
    "from sklearn.linear_model import LogisticRegression\n",
    "from sklearn.metrics import (\n",
    "    classification_report, confusion_matrix, accuracy_score, f1_score\n",
    ")\n",
    "import numpy as np\n",
    "import pandas as pd\n",
    "import sys, os\n",
    "\n",
    "# ====== YOUR PREPROCESSOR ======\n",
    "sys.path.append(os.path.abspath(\"../..\"))\n",
    "from src.preprocessing import preprocess_text_fin\n"
   ]
  },
  {
   "cell_type": "code",
   "execution_count": 132,
   "id": "2f9ca6b5",
   "metadata": {},
   "outputs": [],
   "source": [
    "DATA_PATH = \"../../data/data.csv\"\n",
    "RANDOM_STATE = 42"
   ]
  },
  {
   "cell_type": "markdown",
   "id": "ecaa7925",
   "metadata": {},
   "source": [
    "# 1) Cấu hình chung (áp dụng cho mọi mô hình)\n",
    "\n",
    "**Lý do thiết kế TF-IDF & CV:**\n",
    "\n",
    "* **`ngram_range=(1,2)`**: câu ngắn → bigram bắt cụm giàu tín hiệu (“rose sharply”, “beat estimates”).\n",
    "* **`min_df∈{3,5,10}`**: lọc từ quá hiếm do tập chỉ \\~5.8k câu.\n",
    "* **`max_df∈{0.9,0.95}`**: loại từ quá phổ biến (gần stopword).\n",
    "* **`max_features∈{5k,10k,15k}`**: cân bằng bias/variance với cỡ dữ liệu \\~5.8k.\n",
    "* **`sublinear_tf=True`**: giảm “burstiness” của từ xuất hiện nhiều.\n",
    "* **`norm='l2'`**: phù hợp linear models trên dữ liệu sparse."
   ]
  },
  {
   "cell_type": "code",
   "execution_count": 133,
   "id": "3f97e796",
   "metadata": {},
   "outputs": [],
   "source": [
    "# Không chỉnh tokenizer trong grid để tránh lỗi set_params\n",
    "BASE_TFIDF = TfidfVectorizer(\n",
    "    preprocessor=preprocess_text_fin,\n",
    "    tokenizer=word_tokenize,   # gắn với tiền xử lý text tiếng Anh\n",
    "    token_pattern=None,\n",
    "    use_idf=True\n",
    ")\n",
    "\n",
    "tfidf_space = {\n",
    "    # (1,1) giữ unigram cho từ khóa đơn; (1,2) thêm bigram để bắt cụm giàu ngữ nghĩa\n",
    "    # vì câu ngắn nên không dùng trigram để tránh loãng & overfit.\n",
    "    \"tfidf__ngram_range\": [(1,1), (1,2)],\n",
    "\n",
    "    # Lọc từ quá hiếm (typo/nhiễu) vì data chỉ ~5.8k câu → giảm chiều & variance.\n",
    "    \"tfidf__min_df\": [3, 5, 10],\n",
    "\n",
    "    # Loại từ quá phổ biến (gần stopword) nhưng KHÔNG xóa stopwords cứng\n",
    "    # để giữ phủ định / đơn vị tài chính (e.g., \"not\", \"%\", \"per cent\").\n",
    "    \"tfidf__max_df\": [0.90, 0.95],\n",
    "\n",
    "    # Cân bằng giữa độ phủ từ vựng tài chính và nguy cơ overfit/chi phí tính.\n",
    "    \"tfidf__max_features\": [5000, 10000, 15000],\n",
    "\n",
    "    # Giảm “burstiness” khi một từ lặp nhiều trong cùng văn bản → trọng số ổn định hơn.\n",
    "    \"tfidf__sublinear_tf\": [True],\n",
    "\n",
    "    # L2 giúp linear models hoạt động tốt trên vector sparse, chuẩn hóa độ dài tài liệu.\n",
    "    \"tfidf__norm\": [\"l2\"],\n",
    "}"
   ]
  },
  {
   "cell_type": "markdown",
   "id": "53c8287a",
   "metadata": {},
   "source": [
    "# 2) Logistic Regression + TF-IDF (baseline mạnh)\n",
    "\n",
    "**Lý do chọn & tham số:**\n",
    "\n",
    "* LR rất hợp với vector TF-IDF high-dimensional; nhanh, ổn định.\n",
    "* **`C`** điều khiển regularization: dữ liệu 5.8k → cần quét từ chặt đến lỏng.\n",
    "* **`solver='liblinear'` + `multi_class='ovr'`**: ổn với sparse và 3 lớp.\n",
    "* **`class_weight='balanced'`**: bù lệch lớp"
   ]
  },
  {
   "cell_type": "code",
   "execution_count": 134,
   "id": "5d5de207",
   "metadata": {},
   "outputs": [],
   "source": [
    "from sklearn.linear_model import LogisticRegression\n",
    "\n",
    "pipe_lr = Pipeline([\n",
    "    (\"tfidf\", BASE_TFIDF),\n",
    "    (\"clf\", OneVsRestClassifier(\n",
    "        LogisticRegression(\n",
    "            penalty=\"l2\",                                    # L2 ổn định trên high-dimensional TF-IDF\n",
    "            solver=\"liblinear\",                              # Phù hợp sparse + multi-class OVR quy mô vừa\n",
    "            class_weight=\"balanced\",                         # Cân lệch lớp 54/32/14 theo 1/freq\n",
    "            max_iter=2000,                                   # Đảm bảo hội tụ khi feature nhiều (bigram, 10k+)\n",
    "            random_state=RANDOM_STATE\n",
    "        ),\n",
    "        n_jobs=-1\n",
    "    ))\n",
    "])\n",
    "\n",
    "\n",
    "param_grid_lr = {\n",
    "    **tfidf_space,\n",
    "    # Quét từ regularization mạnh → yếu để tìm điểm cân bằng bias/variance với ~5.8k câu\n",
    "    \"clf__estimator__C\": [0.01, 0.1, 0.5, 1.0, 2.0, 5.0, 10.0],\n",
    "}"
   ]
  },
  {
   "cell_type": "markdown",
   "id": "931832cb",
   "metadata": {},
   "source": [
    "# 3) Linear SVM (LinearSVC) + TF-IDF (mạnh với dữ liệu sparse)\n",
    "\n",
    "**Lý do & tham số:**\n",
    "\n",
    "* Linear SVM thường cho biên tốt trên TF-IDF.\n",
    "* **`C`** quét rộng để tìm margin tối ưu.\n",
    "* **`loss='squared_hinge'`** là chuẩn cho LinearSVC.\n",
    "* **`class_weight='balanced'`** xử lý lệch.\n"
   ]
  },
  {
   "cell_type": "code",
   "execution_count": 135,
   "id": "b2191c89",
   "metadata": {},
   "outputs": [],
   "source": [
    "from sklearn.svm import LinearSVC\n",
    "from sklearn.calibration import CalibratedClassifierCV\n",
    "pipe_svm = Pipeline([\n",
    "    (\"tfidf\", BASE_TFIDF),\n",
    "    (\"clf\", CalibratedClassifierCV(\n",
    "        estimator=LinearSVC(\n",
    "            class_weight=\"balanced\",   # bù lệch lớp 54/32/14 theo 1/freq\n",
    "            max_iter=5000,             # nhiều feature → cần đủ vòng để hội tụ\n",
    "            random_state=42          # thêm nếu muốn tái lập\n",
    "        ),\n",
    "        cv=3,                          # ⚠️ calibration cũng CV → giảm từ 5 xuống 3 để tiết kiệm thời gian\n",
    "        method=\"sigmoid\"               # Platt scaling: nhanh, ổn định; đủ tốt cho 5.8k mẫu\n",
    "    ))\n",
    "])\n",
    "param_grid_svm = {\n",
    "    **tfidf_space,\n",
    "    # Điều chỉnh độ rộng margin; quét rộng để tránh under/over-regularize\n",
    "    \"clf__estimator__C\": [0.01, 0.1, 0.5, 1.0, 2.0, 5.0, 10.0],\n",
    "}"
   ]
  },
  {
   "cell_type": "markdown",
   "id": "fd7096fd",
   "metadata": {},
   "source": [
    "# 4) Multinomial Naive Bayes + TF-IDF (baseline cực nhanh)\n",
    "\n",
    "**Lý do & tham số:**\n",
    "\n",
    "* MNB phù hợp xác suất từ; nhanh, nhẹ để làm baseline.\n",
    "* **`alpha`** (Laplace/Lidstone) rất quan trọng vì từ hiếm xuất hiện nhiều trong text ngắn → quét log-scale.\n",
    "* **`fit_prior`** bật/tắt để xem tác động của phân bố lớp lệch.\n"
   ]
  },
  {
   "cell_type": "code",
   "execution_count": 136,
   "id": "30e622db",
   "metadata": {},
   "outputs": [],
   "source": [
    "from sklearn.naive_bayes import MultinomialNB\n",
    "\n",
    "pipe_mnb = Pipeline([\n",
    "    (\"tfidf\", BASE_TFIDF),\n",
    "    (\"clf\", MultinomialNB()) # Baseline rất nhanh cho text; dùng xác suất từ\n",
    "\n",
    "])\n",
    "\n",
    "param_grid_mnb = {\n",
    "    **tfidf_space,\n",
    "    # Làm mượt xác suất cho từ hiếm (rất phổ biến trong câu ngắn) → quét log-scale\n",
    "    \"clf__alpha\": [0.01, 0.05, 0.1, 0.5, 1.0],\n",
    "    # Thử dùng/không dùng prior vì dữ liệu lệch lớp; xem prior có giúp ổn định hay làm thiên lệch\n",
    "    \"clf__fit_prior\": [True, False],\n",
    "}"
   ]
  },
  {
   "cell_type": "markdown",
   "id": "365e6b1c",
   "metadata": {},
   "source": [
    "# 5) Random Forest + TF-IDF\n",
    "\n",
    "**Lý do & tham số:**\n",
    "\n",
    "* RF không lý tưởng nếu **chỉ** TF-IDF (quá high-dim). Tuy nhiên, nếu sau này anh **gộp thêm feature thống kê** (độ dài câu, số tiền, có/không dấu %) thì RF phát huy.\n",
    "* Dù vậy, để hoàn chỉnh benchmark, ta vẫn cho grid gọn, có **`class_weight='balanced_subsample'`** để bù lệch.\n"
   ]
  },
  {
   "cell_type": "code",
   "execution_count": 137,
   "id": "f15cabde",
   "metadata": {},
   "outputs": [],
   "source": [
    "from sklearn.ensemble import RandomForestClassifier\n",
    "\n",
    "pipe_rf = Pipeline([\n",
    "    (\"tfidf\", BASE_TFIDF),\n",
    "    (\"clf\", RandomForestClassifier(\n",
    "        n_jobs=-1,\n",
    "        class_weight=\"balanced_subsample\",\n",
    "        random_state=42\n",
    "    ))\n",
    "])\n",
    "\n",
    "param_grid_rf = {\n",
    "    **tfidf_space,\n",
    "}"
   ]
  },
  {
   "cell_type": "markdown",
   "id": "26a7faca",
   "metadata": {},
   "source": [
    "## 6) Gradient Boosting + TF-IDF (boosting cây nhẹ)\n",
    "\n",
    "**Lý do & tham số:**\n",
    "\n",
    "* GBC thường kém thuận lợi hơn linear models trên TF-IDF thuần, nhưng đáng thử cho benchmark; nếu thêm feature thống kê/khác miền, GBC cải thiện rõ.\n",
    "\n",
    "* Không có class_weight, ta regularize bằng subsample + min_samples_leaf để bớt overfit lớp lớn."
   ]
  },
  {
   "cell_type": "code",
   "execution_count": 138,
   "id": "1a8ede08",
   "metadata": {},
   "outputs": [],
   "source": [
    "from sklearn.ensemble import GradientBoostingClassifier\n",
    "\n",
    "pipe_gb = Pipeline([\n",
    "    (\"tfidf\", BASE_TFIDF),\n",
    "    (\"clf\", GradientBoostingClassifier(\n",
    "        random_state=RANDOM_STATE\n",
    "    ))\n",
    "])\n",
    "\n",
    "param_grid_gb = {\n",
    "    **tfidf_space,\n",
    "    # Cặp (learning_rate, n_estimators) điều khiển bias/variance:\n",
    "    # lr nhỏ + nhiều cây → tổng quát hơn; lr lớn + ít cây → nhanh nhưng dễ overfit.\n",
    "    # \"clf__n_estimators\": [200, 400],\n",
    "    # \"clf__learning_rate\": [0.05, 0.1],\n",
    "    # # Cây nông (2–3) phù hợp dữ liệu nhiễu/sparse, tránh học quan hệ giả\n",
    "    # \"clf__max_depth\": [2, 3],\n",
    "    # # Stochastic boosting (subsample<1) giảm variance & cải thiện tổng quát hóa\n",
    "    # \"clf__subsample\": [0.8, 1.0],\n",
    "    # # Tránh lá quá nhỏ dễ bám nhiễu của lớp lớn\n",
    "    # \"clf__min_samples_leaf\": [1, 2],\n",
    "    # # Giới hạn số feature mỗi split để bớt nhiễu khi high-dim TF-IDF\n",
    "    # \"clf__max_features\": [None, \"sqrt\"],\n",
    "}"
   ]
  },
  {
   "cell_type": "markdown",
   "id": "131e96cd",
   "metadata": {},
   "source": [
    "# 5) GridSearchCV"
   ]
  },
  {
   "cell_type": "code",
   "execution_count": 139,
   "id": "dc1a8908",
   "metadata": {},
   "outputs": [],
   "source": [
    "cv = StratifiedKFold(n_splits=5, shuffle=True, random_state=42)\n",
    "def run_gs(pipe, grid, X_train, y_train):\n",
    "    gs = GridSearchCV(\n",
    "        estimator=pipe,\n",
    "        param_grid=grid,\n",
    "        scoring=\"f1_macro\",\n",
    "        cv=cv,\n",
    "        n_jobs=-1,\n",
    "        verbose=1\n",
    "    )\n",
    "    gs.fit(X_train, y_train)\n",
    "    return gs"
   ]
  },
  {
   "cell_type": "markdown",
   "id": "1bea9362",
   "metadata": {},
   "source": [
    "# 6) Preprocessing "
   ]
  },
  {
   "cell_type": "code",
   "execution_count": 140,
   "id": "6159e74c",
   "metadata": {},
   "outputs": [],
   "source": [
    "def preprocess_csv(csv_file: str) -> pd.DataFrame:\n",
    "    df = pd.read_csv(csv_file)\n",
    "    df[\"labels\"] = LabelEncoder().fit_transform(df[\"Sentiment\"])\n",
    "    df.drop_duplicates(subset=[\"Sentence\"], keep=\"first\", inplace=True)\n",
    "    # df[\"Sentence\"] = df[\"Sentence\"].astype(str).apply(preprocess_text_fin)\n",
    "    return df"
   ]
  },
  {
   "cell_type": "code",
   "execution_count": 141,
   "id": "368667a4",
   "metadata": {},
   "outputs": [],
   "source": [
    "df = preprocess_csv(DATA_PATH)\n",
    "X_train, X_test, y_train, y_test = train_test_split(\n",
    "    np.array(df[\"Sentence\"]),\n",
    "    np.array(df[\"labels\"]), \n",
    "    test_size=0.25, \n",
    "    random_state=42\n",
    "    )"
   ]
  },
  {
   "cell_type": "code",
   "execution_count": 142,
   "id": "93f1dc29",
   "metadata": {},
   "outputs": [
    {
     "name": "stdout",
     "output_type": "stream",
     "text": [
      "Fitting 5 folds for each of 252 candidates, totalling 1260 fits\n"
     ]
    }
   ],
   "source": [
    "\n",
    "gs_lr = run_gs(pipe_lr, param_grid_lr, X_train, y_train)"
   ]
  },
  {
   "cell_type": "code",
   "execution_count": 143,
   "id": "30d4f742",
   "metadata": {},
   "outputs": [
    {
     "name": "stdout",
     "output_type": "stream",
     "text": [
      "Fitting 5 folds for each of 252 candidates, totalling 1260 fits\n"
     ]
    }
   ],
   "source": [
    "gs_svm = run_gs(pipe_svm, param_grid_svm, X_train, y_train)"
   ]
  },
  {
   "cell_type": "code",
   "execution_count": 144,
   "id": "23510303",
   "metadata": {},
   "outputs": [
    {
     "name": "stdout",
     "output_type": "stream",
     "text": [
      "Fitting 5 folds for each of 360 candidates, totalling 1800 fits\n"
     ]
    }
   ],
   "source": [
    "gs_mnb = run_gs(pipe_mnb, param_grid_mnb, X_train, y_train)"
   ]
  },
  {
   "cell_type": "code",
   "execution_count": 145,
   "id": "3359811d",
   "metadata": {},
   "outputs": [
    {
     "name": "stdout",
     "output_type": "stream",
     "text": [
      "Fitting 5 folds for each of 36 candidates, totalling 180 fits\n"
     ]
    }
   ],
   "source": [
    "gs_rf = run_gs(pipe_rf, param_grid_rf, X_train, y_train)"
   ]
  },
  {
   "cell_type": "code",
   "execution_count": 146,
   "id": "2a688427",
   "metadata": {},
   "outputs": [
    {
     "name": "stdout",
     "output_type": "stream",
     "text": [
      "Fitting 5 folds for each of 36 candidates, totalling 180 fits\n"
     ]
    }
   ],
   "source": [
    "gs_gb = run_gs(pipe_gb, param_grid_gb, X_train, y_train)"
   ]
  },
  {
   "cell_type": "code",
   "execution_count": 147,
   "id": "b60aaf79",
   "metadata": {},
   "outputs": [],
   "source": [
    "import numpy as np\n",
    "import pandas as pd\n",
    "from sklearn.metrics import (\n",
    "    accuracy_score, f1_score, precision_score, recall_score,\n",
    "    classification_report, confusion_matrix, roc_auc_score\n",
    ")\n",
    "from sklearn.utils.multiclass import unique_labels\n",
    "\n",
    "# 1) Tóm tắt kết quả Cross-Validation (best) của nhiều GridSearch\n",
    "def summarize_cv_results(gridsearch_dict):\n",
    "    rows = []\n",
    "    for name, gs in gridsearch_dict.items():\n",
    "        rows.append({\n",
    "            \"model\": name,\n",
    "            \"cv_best_f1_macro\": gs.best_score_,\n",
    "            \"best_params\": gs.best_params_\n",
    "        })\n",
    "    df = pd.DataFrame(rows).sort_values(\"cv_best_f1_macro\", ascending=False)\n",
    "    print(\"\\n=== CV Best Summary (sorted by f1_macro) ===\")\n",
    "    print(df.to_string(index=False))\n",
    "    return df\n",
    "\n",
    "# 2) Đánh giá chi tiết trên tập test cho 1 GridSearch đã fit\n",
    "def evaluate_on_test(gs, X_test, y_test, model_name=\"Model\"):\n",
    "    best_est = gs.best_estimator_\n",
    "    y_pred   = best_est.predict(X_test)\n",
    "\n",
    "    # Thử lấy score cho ROC-AUC macro (ưu tiên predict_proba, fallback decision_function)\n",
    "    y_score = None\n",
    "    has_proba = hasattr(best_est, \"predict_proba\")\n",
    "    has_decision = hasattr(best_est, \"decision_function\")\n",
    "    if has_proba:\n",
    "        try:\n",
    "            y_score = best_est.predict_proba(X_test)\n",
    "        except Exception:\n",
    "            y_score = None\n",
    "    if (y_score is None) and has_decision:\n",
    "        try:\n",
    "            y_score = best_est.decision_function(X_test)\n",
    "        except Exception:\n",
    "            y_score = None\n",
    "\n",
    "    # Metrics cơ bản\n",
    "    acc   = accuracy_score(y_test, y_pred)\n",
    "    f1m   = f1_score(y_test, y_pred, average=\"macro\")\n",
    "    precm = precision_score(y_test, y_pred, average=\"macro\", zero_division=0)\n",
    "    recm  = recall_score(y_test, y_pred, average=\"macro\", zero_division=0)\n",
    "\n",
    "    # ROC-AUC macro (nếu có y_score nhiều lớp)\n",
    "    rocauc = None\n",
    "    if y_score is not None:\n",
    "        try:\n",
    "            rocauc = roc_auc_score(y_test, y_score, multi_class=\"ovo\", average=\"macro\")\n",
    "        except Exception:\n",
    "            rocauc = None\n",
    "\n",
    "    # In tổng quan\n",
    "    print(f\"\\n================= {model_name} =================\")\n",
    "    print(\"Best params:\", gs.best_params_)\n",
    "    print(f\"CV best f1_macro: {gs.best_score_:.4f}\")\n",
    "    print(f\"Test Accuracy   : {acc:.4f}\")\n",
    "    print(f\"Test F1-macro   : {f1m:.4f}\")\n",
    "    print(f\"Test Precision-m: {precm:.4f}\")\n",
    "    print(f\"Test Recall-m   : {recm:.4f}\")\n",
    "    if rocauc is not None:\n",
    "        print(f\"Test ROC-AUC-m  : {rocauc:.4f}\")\n",
    "\n",
    "    # Classification report\n",
    "    print(\"\\nClassification report:\")\n",
    "    print(classification_report(y_test, y_pred, digits=4, zero_division=0))\n",
    "\n",
    "    # Confusion matrix\n",
    "    cm = confusion_matrix(y_test, y_pred)\n",
    "    labels = unique_labels(y_test, y_pred)\n",
    "    print(\"Confusion matrix (rows=true, cols=pred):\")\n",
    "    print(pd.DataFrame(cm, index=[f\"true_{l}\" for l in labels],\n",
    "                          columns=[f\"pred_{l}\" for l in labels]).to_string())\n",
    "    return {\n",
    "        \"model\": model_name,\n",
    "        \"cv_best_f1_macro\": gs.best_score_,\n",
    "        \"test_accuracy\": acc,\n",
    "        \"test_f1_macro\": f1m,\n",
    "        \"test_precision_macro\": precm,\n",
    "        \"test_recall_macro\": recm,\n",
    "        \"test_roc_auc_macro\": rocauc,\n",
    "        \"best_params\": gs.best_params_\n",
    "    }\n",
    "\n",
    "# 3) Chạy đánh giá cho tất cả mô hình + bảng tổng hợp test\n",
    "def evaluate_all(gs_dict, X_test, y_test):\n",
    "    _ = summarize_cv_results(gs_dict)\n",
    "    test_rows = []\n",
    "    for name, gs in gs_dict.items():\n",
    "        res = evaluate_on_test(gs, X_test, y_test, model_name=name)\n",
    "        test_rows.append(res)\n",
    "    test_df = pd.DataFrame(test_rows).sort_values(\"test_f1_macro\", ascending=False)\n",
    "    print(\"\\n=== Test Summary (sorted by f1_macro) ===\")\n",
    "    print(test_df[[\"model\",\"cv_best_f1_macro\",\"test_f1_macro\",\"test_accuracy\",\"test_precision_macro\",\"test_recall_macro\",\"test_roc_auc_macro\"]].to_string(index=False))\n",
    "    return test_df\n"
   ]
  },
  {
   "cell_type": "markdown",
   "id": "9eebd547",
   "metadata": {},
   "source": [
    "## ✅ Kết luận tổng quan\n",
    "\n",
    "* **Mô hình tốt nhất**: **Logistic Regression (LR)**\n",
    "\n",
    "  * **CV F1-macro**: 0.6517 → **Test F1-macro**: **0.6943** (cao nhất)\n",
    "  * **Test Accuracy**: 0.7423 | **ROC-AUC macro**: 0.8774 (khả năng xếp hạng tốt → tối ưu ngưỡng còn dư địa)\n",
    "* **Thứ hạng tiếp theo**: **MultinomialNB** (0.6581) ≈ **LinearSVM** (0.6488) > **RandomForest** (0.6209) ≈ **GradBoost** (0.6176)\n",
    "\n",
    "## 📌 Diễn giải nhanh theo lớp\n",
    "\n",
    "* **LR** cân bằng tốt nhất giữa các lớp; **lớp 0** vẫn là điểm yếu của mọi mô hình nhưng LR có **recall lớp 0 \\~0.60** (tốt hơn SVM/RF/GB).\n",
    "* **SVM** accuracy tương đương LR nhưng **macro-F1 thấp** do **recall lớp 0 sụt (0.315)**.\n",
    "* **MNB** là baseline nhanh và khá cân bằng, nhưng kém LR một chút.\n",
    "* **RF/GBoost** cho accuracy ổn nhưng **macro-F1 thấp** — đặc trưng của cây trên TF-IDF sparse.\n"
   ]
  },
  {
   "cell_type": "code",
   "execution_count": 152,
   "id": "d6b9f1ad",
   "metadata": {},
   "outputs": [
    {
     "name": "stdout",
     "output_type": "stream",
     "text": [
      "\n",
      "=== CV Best Summary (sorted by f1_macro) ===\n",
      "              model  cv_best_f1_macro                                                                                                                                                                                         best_params\n",
      "Logistic Regression          0.665786                   {'clf__estimator__C': 2.0, 'tfidf__max_df': 0.9, 'tfidf__max_features': 5000, 'tfidf__min_df': 3, 'tfidf__ngram_range': (1, 2), 'tfidf__norm': 'l2', 'tfidf__sublinear_tf': True}\n",
      "      MultinomialNB          0.636856 {'clf__alpha': 0.5, 'clf__fit_prior': False, 'tfidf__max_df': 0.9, 'tfidf__max_features': 5000, 'tfidf__min_df': 3, 'tfidf__ngram_range': (1, 1), 'tfidf__norm': 'l2', 'tfidf__sublinear_tf': True}\n",
      "          LinearSVM          0.617239                   {'clf__estimator__C': 0.5, 'tfidf__max_df': 0.9, 'tfidf__max_features': 5000, 'tfidf__min_df': 3, 'tfidf__ngram_range': (1, 2), 'tfidf__norm': 'l2', 'tfidf__sublinear_tf': True}\n",
      "       RandomForest          0.610828                                            {'tfidf__max_df': 0.9, 'tfidf__max_features': 5000, 'tfidf__min_df': 10, 'tfidf__ngram_range': (1, 2), 'tfidf__norm': 'l2', 'tfidf__sublinear_tf': True}\n",
      "          GradBoost          0.586165                                             {'tfidf__max_df': 0.9, 'tfidf__max_features': 5000, 'tfidf__min_df': 5, 'tfidf__ngram_range': (1, 1), 'tfidf__norm': 'l2', 'tfidf__sublinear_tf': True}\n",
      "\n",
      "================= Logistic Regression =================\n",
      "Best params: {'clf__estimator__C': 2.0, 'tfidf__max_df': 0.9, 'tfidf__max_features': 5000, 'tfidf__min_df': 3, 'tfidf__ngram_range': (1, 2), 'tfidf__norm': 'l2', 'tfidf__sublinear_tf': True}\n",
      "CV best f1_macro: 0.6658\n",
      "Test Accuracy   : 0.7483\n",
      "Test F1-macro   : 0.6891\n",
      "Test Precision-m: 0.6873\n",
      "Test Recall-m   : 0.6911\n",
      "Test ROC-AUC-m  : 0.8800\n",
      "\n",
      "Classification report:\n",
      "              precision    recall  f1-score   support\n",
      "\n",
      "           0     0.5145    0.5394    0.5266       165\n",
      "           1     0.8188    0.8223    0.8206       698\n",
      "           2     0.7287    0.7115    0.7200       468\n",
      "\n",
      "    accuracy                         0.7483      1331\n",
      "   macro avg     0.6873    0.6911    0.6891      1331\n",
      "weighted avg     0.7494    0.7483    0.7488      1331\n",
      "\n",
      "Confusion matrix (rows=true, cols=pred):\n",
      "        pred_0  pred_1  pred_2\n",
      "true_0      89      32      44\n",
      "true_1      44     574      80\n",
      "true_2      40      95     333\n",
      "\n",
      "================= LinearSVM =================\n",
      "Best params: {'clf__estimator__C': 0.5, 'tfidf__max_df': 0.9, 'tfidf__max_features': 5000, 'tfidf__min_df': 3, 'tfidf__ngram_range': (1, 2), 'tfidf__norm': 'l2', 'tfidf__sublinear_tf': True}\n",
      "CV best f1_macro: 0.6172\n",
      "Test Accuracy   : 0.7581\n",
      "Test F1-macro   : 0.6620\n",
      "Test Precision-m: 0.7378\n",
      "Test Recall-m   : 0.6403\n",
      "Test ROC-AUC-m  : 0.8710\n",
      "\n",
      "Classification report:\n",
      "              precision    recall  f1-score   support\n",
      "\n",
      "           0     0.7083    0.3091    0.4304       165\n",
      "           1     0.7863    0.8854    0.8329       698\n",
      "           2     0.7188    0.7265    0.7226       468\n",
      "\n",
      "    accuracy                         0.7581      1331\n",
      "   macro avg     0.7378    0.6403    0.6620      1331\n",
      "weighted avg     0.7529    0.7581    0.7442      1331\n",
      "\n",
      "Confusion matrix (rows=true, cols=pred):\n",
      "        pred_0  pred_1  pred_2\n",
      "true_0      51      51      63\n",
      "true_1      10     618      70\n",
      "true_2      11     117     340\n",
      "\n",
      "================= MultinomialNB =================\n",
      "Best params: {'clf__alpha': 0.5, 'clf__fit_prior': False, 'tfidf__max_df': 0.9, 'tfidf__max_features': 5000, 'tfidf__min_df': 3, 'tfidf__ngram_range': (1, 1), 'tfidf__norm': 'l2', 'tfidf__sublinear_tf': True}\n",
      "CV best f1_macro: 0.6369\n",
      "Test Accuracy   : 0.7107\n",
      "Test F1-macro   : 0.6581\n",
      "Test Precision-m: 0.6507\n",
      "Test Recall-m   : 0.6693\n",
      "Test ROC-AUC-m  : 0.8533\n",
      "\n",
      "Classification report:\n",
      "              precision    recall  f1-score   support\n",
      "\n",
      "           0     0.4653    0.5697    0.5123       165\n",
      "           1     0.7985    0.7779    0.7881       698\n",
      "           2     0.6882    0.6603    0.6739       468\n",
      "\n",
      "    accuracy                         0.7107      1331\n",
      "   macro avg     0.6507    0.6693    0.6581      1331\n",
      "weighted avg     0.7184    0.7107    0.7138      1331\n",
      "\n",
      "Confusion matrix (rows=true, cols=pred):\n",
      "        pred_0  pred_1  pred_2\n",
      "true_0      94      28      43\n",
      "true_1      58     543      97\n",
      "true_2      50     109     309\n",
      "\n",
      "================= RandomForest =================\n",
      "Best params: {'tfidf__max_df': 0.9, 'tfidf__max_features': 5000, 'tfidf__min_df': 10, 'tfidf__ngram_range': (1, 2), 'tfidf__norm': 'l2', 'tfidf__sublinear_tf': True}\n",
      "CV best f1_macro: 0.6108\n",
      "Test Accuracy   : 0.7303\n",
      "Test F1-macro   : 0.6094\n",
      "Test Precision-m: 0.6553\n",
      "Test Recall-m   : 0.5968\n",
      "Test ROC-AUC-m  : 0.8345\n",
      "\n",
      "Classification report:\n",
      "              precision    recall  f1-score   support\n",
      "\n",
      "           0     0.4938    0.2424    0.3252       165\n",
      "           1     0.7664    0.9026    0.8289       698\n",
      "           2     0.7056    0.6453    0.6741       468\n",
      "\n",
      "    accuracy                         0.7303      1331\n",
      "   macro avg     0.6553    0.5968    0.6094      1331\n",
      "weighted avg     0.7112    0.7303    0.7121      1331\n",
      "\n",
      "Confusion matrix (rows=true, cols=pred):\n",
      "        pred_0  pred_1  pred_2\n",
      "true_0      40      52      73\n",
      "true_1      15     630      53\n",
      "true_2      26     140     302\n",
      "\n",
      "================= GradBoost =================\n",
      "Best params: {'tfidf__max_df': 0.9, 'tfidf__max_features': 5000, 'tfidf__min_df': 5, 'tfidf__ngram_range': (1, 1), 'tfidf__norm': 'l2', 'tfidf__sublinear_tf': True}\n",
      "CV best f1_macro: 0.5862\n",
      "Test Accuracy   : 0.7370\n",
      "Test F1-macro   : 0.6176\n",
      "Test Precision-m: 0.7432\n",
      "Test Recall-m   : 0.5973\n",
      "Test ROC-AUC-m  : 0.8423\n",
      "\n",
      "Classification report:\n",
      "              precision    recall  f1-score   support\n",
      "\n",
      "           0     0.7755    0.2303    0.3551       165\n",
      "           1     0.7523    0.9226    0.8288       698\n",
      "           2     0.7019    0.6389    0.6689       468\n",
      "\n",
      "    accuracy                         0.7370      1331\n",
      "   macro avg     0.7432    0.5973    0.6176      1331\n",
      "weighted avg     0.7375    0.7370    0.7139      1331\n",
      "\n",
      "Confusion matrix (rows=true, cols=pred):\n",
      "        pred_0  pred_1  pred_2\n",
      "true_0      38      50      77\n",
      "true_1       4     644      50\n",
      "true_2       7     162     299\n",
      "\n",
      "=== Test Summary (sorted by f1_macro) ===\n",
      "              model  cv_best_f1_macro  test_f1_macro  test_accuracy  test_precision_macro  test_recall_macro  test_roc_auc_macro\n",
      "Logistic Regression          0.665786       0.689071       0.748310              0.687315           0.691094            0.880047\n",
      "          LinearSVM          0.617239       0.661966       0.758077              0.737803           0.640324            0.871044\n",
      "      MultinomialNB          0.636856       0.658099       0.710744              0.650691           0.669297            0.853308\n",
      "          GradBoost          0.586165       0.617624       0.737040              0.743242           0.597276            0.842341\n",
      "       RandomForest          0.610828       0.609419       0.730278              0.655286           0.596767            0.834499\n"
     ]
    }
   ],
   "source": [
    "gs_dict = {\n",
    "    \"Logistic Regression\": gs_lr,\n",
    "    \"LinearSVM\": gs_svm,\n",
    "    \"MultinomialNB\": gs_mnb,\n",
    "    \"RandomForest\": gs_rf,\n",
    "    \"GradBoost\": gs_gb,\n",
    "}\n",
    "test_summary = evaluate_all(gs_dict, X_test, y_test)"
   ]
  },
  {
   "cell_type": "code",
   "execution_count": 153,
   "id": "c8acfd83",
   "metadata": {},
   "outputs": [
    {
     "name": "stdout",
     "output_type": "stream",
     "text": [
      "✅ Saved: ..\\..\\models\\selfcontained_logreg.joblib\n",
      "✅ Saved: ..\\..\\models\\selfcontained_linearsvm_cal.joblib\n",
      "✅ Saved: ..\\..\\models\\selfcontained_mnb.joblib\n",
      "✅ Saved: ..\\..\\models\\selfcontained_rf.joblib\n",
      "✅ Saved: ..\\..\\models\\selfcontained_gboost.joblib\n"
     ]
    }
   ],
   "source": [
    "from pathlib import Path\n",
    "from joblib import dump\n",
    "import time\n",
    "\n",
    "# === Thư mục lưu ===\n",
    "SAVE_DIR = Path(\"../../models\")\n",
    "SAVE_DIR.mkdir(parents=True, exist_ok=True)\n",
    "\n",
    "def save_selfcontained(name: str, model_or_gs, with_ts: bool = False):\n",
    "    pipe = model_or_gs.best_estimator_ if hasattr(model_or_gs, \"best_estimator_\") else model_or_gs\n",
    "    assert hasattr(pipe, \"predict\"), \"Object phải là pipeline/estimator đã fit.\"\n",
    "    suffix = f\"_{time.strftime('%Y%m%d-%H%M%S')}\" if with_ts else \"\"\n",
    "    path = SAVE_DIR / f\"selfcontained_{name}{suffix}.joblib\"\n",
    "    dump(pipe, path, compress=3)\n",
    "    print(f\"✅ Saved: {path}\")\n",
    "\n",
    "# === Lưu tất cả mô hình ===\n",
    "save_selfcontained(\"logreg\",        gs_lr)        # Logistic Regression\n",
    "save_selfcontained(\"linearsvm_cal\", gs_svm)       # LinearSVC đã bọc CalibratedClassifierCV\n",
    "save_selfcontained(\"mnb\",           gs_mnb)       # MultinomialNB\n",
    "save_selfcontained(\"rf\",            gs_rf)        # RandomForest\n",
    "save_selfcontained(\"gboost\",        gs_gb)        # GradientBoosting"
   ]
  }
 ],
 "metadata": {
  "kernelspec": {
   "display_name": "Python 3",
   "language": "python",
   "name": "python3"
  },
  "language_info": {
   "codemirror_mode": {
    "name": "ipython",
    "version": 3
   },
   "file_extension": ".py",
   "mimetype": "text/x-python",
   "name": "python",
   "nbconvert_exporter": "python",
   "pygments_lexer": "ipython3",
   "version": "3.11.9"
  }
 },
 "nbformat": 4,
 "nbformat_minor": 5
}
