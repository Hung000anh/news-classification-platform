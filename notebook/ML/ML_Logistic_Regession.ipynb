{
 "cells": [
  {
   "cell_type": "code",
   "execution_count": 2,
   "id": "2badcf28",
   "metadata": {},
   "outputs": [
    {
     "name": "stderr",
     "output_type": "stream",
     "text": [
      "[nltk_data] Downloading package wordnet to\n",
      "[nltk_data]     C:\\Users\\hung0\\AppData\\Roaming\\nltk_data...\n",
      "[nltk_data]   Package wordnet is already up-to-date!\n",
      "[nltk_data] Downloading package omw-1.4 to\n",
      "[nltk_data]     C:\\Users\\hung0\\AppData\\Roaming\\nltk_data...\n",
      "[nltk_data]   Package omw-1.4 is already up-to-date!\n"
     ]
    }
   ],
   "source": [
    "# ==============================\n",
    "# 1) Import thư viện\n",
    "# ==============================\n",
    "import numpy as np\n",
    "import pandas as pd\n",
    "import matplotlib.pyplot as plt\n",
    "import seaborn as sns\n",
    "\n",
    "from sklearn.model_selection import (\n",
    "    train_test_split,\n",
    "    GridSearchCV,\n",
    "    StratifiedKFold,\n",
    ")\n",
    "from sklearn.feature_extraction.text import TfidfVectorizer\n",
    "from sklearn.linear_model import LogisticRegression\n",
    "from sklearn.pipeline import Pipeline\n",
    "from sklearn.metrics import (\n",
    "    classification_report,\n",
    "    confusion_matrix,\n",
    "    accuracy_score,\n",
    "    f1_score,\n",
    ")\n",
    "\n",
    "import sys, os\n",
    "sys.path.append(os.path.abspath(\"../..\"))\n",
    "from src.preprocessing import preprocess_text_fin"
   ]
  },
  {
   "cell_type": "code",
   "execution_count": 3,
   "id": "acca53a8",
   "metadata": {},
   "outputs": [],
   "source": [
    "# ==============================\n",
    "# 2) Cấu hình chung\n",
    "# ==============================\n",
    "DATA_PATH = \"../../data/data.csv\"     # thay bằng đường dẫn thực tế\n",
    "TEXT_COL = \"Sentence\"\n",
    "TARGET_COL = \"Sentiment\"\n",
    "\n",
    "TEST_SIZE = 0.20\n",
    "RANDOM_STATE = 42\n",
    "N_SPLITS = 5\n"
   ]
  },
  {
   "cell_type": "code",
   "execution_count": 4,
   "id": "c4be0dfd",
   "metadata": {},
   "outputs": [],
   "source": [
    "# ==============================\n",
    "# 2) Load & tiền xử lý dữ liệu\n",
    "# ==============================\n",
    "df = pd.read_csv(DATA_PATH)\n",
    "df[\"text_clean\"] = df[TEXT_COL].apply(preprocess_text_fin)\n",
    "\n",
    "X_train, X_test, y_train, y_test = train_test_split(\n",
    "    df[\"text_clean\"],\n",
    "    df[TARGET_COL],\n",
    "    test_size=TEST_SIZE,\n",
    "    random_state=RANDOM_STATE,\n",
    "    stratify=df[TARGET_COL],\n",
    ")"
   ]
  },
  {
   "cell_type": "code",
   "execution_count": 9,
   "id": "68d2e12d",
   "metadata": {},
   "outputs": [],
   "source": [
    "# ==============================\n",
    "# 3) Pipeline & GridSearchCV\n",
    "# ==============================\n",
    "pipe = Pipeline(\n",
    "    steps=[\n",
    "        (\n",
    "            \"tfidf\",\n",
    "            TfidfVectorizer(\n",
    "                ngram_range=(1, 2),\n",
    "                max_df=0.95,\n",
    "                min_df=5,\n",
    "                max_features=10_000,\n",
    "                sublinear_tf=True,\n",
    "                norm=\"l2\",\n",
    "            ),\n",
    "        ),\n",
    "        (\n",
    "            \"clf\",\n",
    "            LogisticRegression(\n",
    "                max_iter=3000,\n",
    "                class_weight=\"balanced\",\n",
    "                solver=\"lbfgs\",\n",
    "                random_state=RANDOM_STATE,\n",
    "            ),\n",
    "        ),\n",
    "    ]\n",
    ")\n",
    "\n",
    "param_grid = {\n",
    "    \"clf__C\": [0.01, 0.1, 0.5, 1.0, 2.0, 5.0],  \n",
    "    \"tfidf__ngram_range\": [(1,1), (1,2)],       # (1,2) thường tốt với dữ liệu ngắn tài chính\n",
    "    \"tfidf__min_df\": [2, 5],                    # tránh min_df = 1 nếu nhiều từ hiếm\n",
    "    \"tfidf__max_df\": [0.9, 0.85, 0.95],               # loại bỏ từ quá phổ biến\n",
    "    \"tfidf__max_features\": [5_000, 10_000],     # với ~5.8k câu, 5k-10k thường đủ\n",
    "    \"tfidf__sublinear_tf\": [True],              # hay bật để giảm bias từ từ hay lặp\n",
    "    \"tfidf__norm\": [\"l2\", None],                # thường l2 tốt cho phân lớp\n",
    "    \"clf__class_weight\": [None, \"balanced\"]     #Vì dữ liệu mất cân bằng\n",
    "}\n",
    "\n",
    "cv = StratifiedKFold(n_splits=N_SPLITS, shuffle=True, random_state=RANDOM_STATE)\n",
    "\n",
    "gs = GridSearchCV(\n",
    "    estimator=pipe,\n",
    "    param_grid=param_grid,\n",
    "    scoring=\"f1_macro\",\n",
    "    cv=cv,\n",
    "    n_jobs=-1,\n",
    "    verbose=1,\n",
    ")"
   ]
  },
  {
   "cell_type": "code",
   "execution_count": 10,
   "id": "55e77e2d",
   "metadata": {},
   "outputs": [
    {
     "name": "stdout",
     "output_type": "stream",
     "text": [
      "Fitting 5 folds for each of 576 candidates, totalling 2880 fits\n",
      "Best params: {'clf__C': 0.5, 'clf__class_weight': 'balanced', 'tfidf__max_df': 0.9, 'tfidf__max_features': 5000, 'tfidf__min_df': 5, 'tfidf__ngram_range': (1, 1), 'tfidf__norm': 'l2', 'tfidf__sublinear_tf': True}\n",
      "CV best f1_macro: 0.638192693383906\n",
      "\n",
      "=== Test Accuracy: 0.6775021385799829\n",
      "=== Test Macro-F1: 0.629860980080099\n",
      "\n",
      "Classification Report:\n",
      "               precision    recall  f1-score   support\n",
      "\n",
      "    negative       0.37      0.55      0.45       172\n",
      "     neutral       0.79      0.72      0.75       626\n",
      "    positive       0.72      0.67      0.69       371\n",
      "\n",
      "    accuracy                           0.68      1169\n",
      "   macro avg       0.63      0.65      0.63      1169\n",
      "weighted avg       0.70      0.68      0.69      1169\n",
      "\n"
     ]
    }
   ],
   "source": [
    "# ==============================\n",
    "# 4) Train + Evaluate\n",
    "# ==============================\n",
    "gs.fit(X_train, y_train)\n",
    "\n",
    "print(\"Best params:\", gs.best_params_)\n",
    "print(\"CV best f1_macro:\", gs.best_score_)\n",
    "\n",
    "best = gs.best_estimator_\n",
    "y_pred = best.predict(X_test)\n",
    "\n",
    "print(\"\\n=== Test Accuracy:\", accuracy_score(y_test, y_pred))\n",
    "print(\"=== Test Macro-F1:\", f1_score(y_test, y_pred, average=\"macro\"))\n",
    "print(\"\\nClassification Report:\\n\", classification_report(y_test, y_pred))"
   ]
  },
  {
   "cell_type": "code",
   "execution_count": 11,
   "id": "446259db",
   "metadata": {},
   "outputs": [
    {
     "data": {
      "image/png": "[encoded data removed]",
      "text/plain": [
       "<Figure size 600x400 with 2 Axes>"
      ]
     },
     "metadata": {},
     "output_type": "display_data"
    }
   ],
   "source": [
    "# ==============================\n",
    "# 5) Confusion Matrix\n",
    "# ==============================\n",
    "clf = best.named_steps[\"clf\"]\n",
    "classes = clf.classes_\n",
    "\n",
    "cm = confusion_matrix(y_test, y_pred, labels=classes)\n",
    "\n",
    "plt.figure(figsize=(6, 4))\n",
    "sns.heatmap(\n",
    "    cm,\n",
    "    annot=True,\n",
    "    fmt=\"d\",\n",
    "    cmap=\"Blues\",\n",
    "    xticklabels=classes,\n",
    "    yticklabels=classes,\n",
    ")\n",
    "plt.xlabel(\"Predicted\")\n",
    "plt.ylabel(\"Actual\")\n",
    "plt.title(\"Confusion Matrix - Logistic Regression (GridSearch)\")\n",
    "plt.tight_layout()\n",
    "plt.show()"
   ]
  },
  {
   "cell_type": "code",
   "execution_count": 12,
   "id": "5e638cd6",
   "metadata": {},
   "outputs": [
    {
     "name": "stdout",
     "output_type": "stream",
     "text": [
      "\n",
      "Top words for class 'negative': ['declined', 'drop', 'hit', 'cut', 'short', 'fell', 'fall', 'lower', 'currency', 'decreased']\n",
      "\n",
      "Top words for class 'neutral': ['developed', 'no', 'business', 'part', 'not', 'development', 'includes', 'value', 'approximately', 'will']\n",
      "\n",
      "Top words for class 'positive': ['rise', 'signed', 'currency', 'grew', 'positive', 'buy', 'long', 'increase', 'increased', 'rose']\n"
     ]
    }
   ],
   "source": [
    "# ==============================\n",
    "# 6) Top từ/ngữ quan trọng theo lớp\n",
    "# ==============================\n",
    "tfidf = best.named_steps[\"tfidf\"]\n",
    "feature_names = tfidf.get_feature_names_out()\n",
    "\n",
    "for i, label in enumerate(classes):\n",
    "    coefs = clf.coef_[i]\n",
    "    top_pos_idx = np.argsort(coefs)[-10:]  # top 10 đặc trưng ủng hộ lớp\n",
    "    top_terms = feature_names[top_pos_idx]\n",
    "    print(f\"\\nTop words for class '{label}': {list(top_terms)}\")\n"
   ]
  },
  {
   "cell_type": "code",
   "execution_count": 13,
   "id": "290b5c2e",
   "metadata": {},
   "outputs": [
    {
     "name": "stdout",
     "output_type": "stream",
     "text": [
      "\n",
      "[1] Chuỗi gốc: Dollar falls as traders bet on more rate cuts\n",
      "    Đã làm sạch: dollar fall trader bet rate cut\n",
      "    Nhãn dự đoán: negative\n",
      "    Top xác suất:\n",
      "      - negative: 0.7701\n",
      "      - neutral: 0.1531\n",
      "      - positive: 0.0769\n",
      "\n",
      "[2] Chuỗi gốc: Central Europe's FX to get dollar boost, but forint likely to fall from highs\n",
      "    Đã làm sạch: central europe fx dollar boost, forint likely fall high\n",
      "    Nhãn dự đoán: negative\n",
      "    Top xác suất:\n",
      "      - negative: 0.3465\n",
      "      - neutral: 0.3401\n",
      "      - positive: 0.3134\n",
      "\n",
      "[3] Chuỗi gốc: Bulgaria sets price controls as euro transition nears\n",
      "    Đã làm sạch: bulgaria set price control euro transition nears\n",
      "    Nhãn dự đoán: neutral\n",
      "    Top xác suất:\n",
      "      - neutral: 0.6095\n",
      "      - negative: 0.1965\n",
      "      - positive: 0.1940\n",
      "\n",
      "[4] Chuỗi gốc: To make economies work for everyone, we need to put a price on social impact\n",
      "    Đã làm sạch: make economy work everyone, need put price social impact\n",
      "    Nhãn dự đoán: neutral\n",
      "    Top xác suất:\n",
      "      - neutral: 0.4742\n",
      "      - negative: 0.4160\n",
      "      - positive: 0.1098\n",
      "\n",
      "[5] Chuỗi gốc: European shares settle lower as investors gauge mixed earnings, EU-US trade progress\n",
      "    Đã làm sạch: european share settle lower investor gauge mixed earnings, eu-us trade progress\n",
      "    Nhãn dự đoán: negative\n",
      "    Top xác suất:\n",
      "      - negative: 0.4418\n",
      "      - neutral: 0.3797\n",
      "      - positive: 0.1785\n",
      "\n",
      "[6] Chuỗi gốc: What's in the EU's countermeasures to US tariffs?\n",
      "    Đã làm sạch: eu countermeasure u tariff\n",
      "    Nhãn dự đoán: neutral\n",
      "    Top xác suất:\n",
      "      - neutral: 0.4139\n",
      "      - positive: 0.3875\n",
      "      - negative: 0.1986\n",
      "\n",
      "[7] Chuỗi gốc: Syria is secretly reshaping its economy. The president’s brother is in charge.\n",
      "    Đã làm sạch: syria secretly reshaping economy. president s brother charge.\n",
      "    Nhãn dự đoán: neutral\n",
      "    Top xác suất:\n",
      "      - neutral: 0.4869\n",
      "      - negative: 0.3025\n",
      "      - positive: 0.2106\n"
     ]
    }
   ],
   "source": [
    "# ==============================\n",
    "# 7) Thử nghiệm với nhiều chuỗi\n",
    "# ==============================\n",
    "\n",
    "test_sentences = [\n",
    "    \"Dollar falls as traders bet on more rate cuts\",\n",
    "    \"Central Europe's FX to get dollar boost, but forint likely to fall from highs\",\n",
    "    \"Bulgaria sets price controls as euro transition nears\",\n",
    "    \"To make economies work for everyone, we need to put a price on social impact\",\n",
    "    \"European shares settle lower as investors gauge mixed earnings, EU-US trade progress\",\n",
    "    \"What's in the EU's countermeasures to US tariffs?\",\n",
    "    \"Syria is secretly reshaping its economy. The president’s brother is in charge.\"\n",
    "]\n",
    "\n",
    "# Làm sạch\n",
    "test_clean_list = [preprocess_text_fin(s) for s in test_sentences]\n",
    "\n",
    "# Vector hóa & dự đoán\n",
    "tfidf = best.named_steps[\"tfidf\"]\n",
    "clf   = best.named_steps[\"clf\"]\n",
    "classes = clf.classes_\n",
    "\n",
    "X_test_custom = tfidf.transform(test_clean_list)\n",
    "pred_labels   = clf.predict(X_test_custom)\n",
    "\n",
    "# Xác suất theo lớp (nếu model hỗ trợ)\n",
    "has_proba = hasattr(clf, \"predict_proba\")\n",
    "pred_probas = clf.predict_proba(X_test_custom) if has_proba else None\n",
    "\n",
    "# In kết quả từng câu\n",
    "for i, (raw, clean, pred) in enumerate(zip(test_sentences, test_clean_list, pred_labels), start=1):\n",
    "    print(f\"\\n[{i}] Chuỗi gốc: {raw}\")\n",
    "    print(f\"    Đã làm sạch: {clean}\")\n",
    "    print(f\"    Nhãn dự đoán: {pred}\")\n",
    "\n",
    "    if has_proba:\n",
    "        # Lấy top-3 lớp có xác suất cao nhất\n",
    "        probs = pred_probas[test_sentences.index(raw)]\n",
    "        topk = min(3, len(classes))\n",
    "        top_idx = np.argsort(probs)[-topk:][::-1]\n",
    "        print(\"    Top xác suất:\")\n",
    "        for j in top_idx:\n",
    "            print(f\"      - {classes[j]}: {probs[j]:.4f}\")\n"
   ]
  },
  {
   "cell_type": "code",
   "execution_count": 15,
   "id": "f7f519bb",
   "metadata": {},
   "outputs": [
    {
     "name": "stdout",
     "output_type": "stream",
     "text": [
      "✅ Mô hình đã được lưu vào../../models/Logistic_Regession/LG_model.pkl\n"
     ]
    }
   ],
   "source": [
    "import pickle\n",
    "\n",
    "# Lưu pipeline đã train\n",
    "with open(\"../../models/Logistic_Regession/LG_model.pkl\", \"wb\") as f:\n",
    "    pickle.dump(best, f)\n",
    "\n",
    "print(\"✅ Mô hình đã được lưu vào../../models/Logistic_Regession/LG_model.pkl\")"
   ]
  }
 ],
 "metadata": {
  "kernelspec": {
   "display_name": "Python 3",
   "language": "python",
   "name": "python3"
  },
  "language_info": {
   "codemirror_mode": {
    "name": "ipython",
    "version": 3
   },
   "file_extension": ".py",
   "mimetype": "text/x-python",
   "name": "python",
   "nbconvert_exporter": "python",
   "pygments_lexer": "ipython3",
   "version": "3.11.9"
  }
 },
 "nbformat": 4,
 "nbformat_minor": 5
}
