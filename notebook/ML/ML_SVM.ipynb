{
 "cells": [
  {
   "cell_type": "code",
   "execution_count": 1,
   "id": "08f8445c",
   "metadata": {},
   "outputs": [
    {
     "name": "stderr",
     "output_type": "stream",
     "text": [
      "[nltk_data] Downloading package wordnet to\n",
      "[nltk_data]     C:\\Users\\hung0\\AppData\\Roaming\\nltk_data...\n",
      "[nltk_data]   Package wordnet is already up-to-date!\n",
      "[nltk_data] Downloading package omw-1.4 to\n",
      "[nltk_data]     C:\\Users\\hung0\\AppData\\Roaming\\nltk_data...\n",
      "[nltk_data]   Package omw-1.4 is already up-to-date!\n"
     ]
    }
   ],
   "source": [
    "# ==============================\n",
    "# 1) Import thư viện\n",
    "# ==============================\n",
    "import numpy as np\n",
    "import pandas as pd\n",
    "import matplotlib.pyplot as plt\n",
    "import seaborn as sns\n",
    "\n",
    "from sklearn.model_selection import (\n",
    "    train_test_split,\n",
    "    GridSearchCV,\n",
    "    StratifiedKFold,\n",
    ")\n",
    "from sklearn.feature_extraction.text import TfidfVectorizer\n",
    "from sklearn.pipeline import Pipeline\n",
    "from sklearn.metrics import (\n",
    "    classification_report,\n",
    "    confusion_matrix,\n",
    "    accuracy_score,\n",
    "    f1_score,\n",
    ")\n",
    "from sklearn.svm import LinearSVC\n",
    "from sklearn.calibration import CalibratedClassifierCV\n",
    "\n",
    "import sys, os\n",
    "sys.path.append(os.path.abspath(\"../..\"))\n",
    "from src.preprocessing import preprocess_text_fin\n"
   ]
  },
  {
   "cell_type": "code",
   "execution_count": 2,
   "id": "1efaa97f",
   "metadata": {},
   "outputs": [],
   "source": [
    "# ==============================\n",
    "# 2) Cấu hình chung\n",
    "# ==============================\n",
    "DATA_PATH = \"../../data/data.csv\"     # thay bằng đường dẫn thực tế\n",
    "TEXT_COL = \"Sentence\"\n",
    "TARGET_COL = \"Sentiment\"\n",
    "\n",
    "TEST_SIZE = 0.20\n",
    "RANDOM_STATE = 42\n",
    "N_SPLITS = 5"
   ]
  },
  {
   "cell_type": "code",
   "execution_count": 3,
   "id": "b71c1fd7",
   "metadata": {},
   "outputs": [],
   "source": [
    "# ==============================\n",
    "# 3) Load & tiền xử lý dữ liệu\n",
    "# ==============================\n",
    "df = pd.read_csv(DATA_PATH)\n",
    "df[\"text_clean\"] = df[TEXT_COL].apply(preprocess_text_fin)\n",
    "\n",
    "X_train, X_test, y_train, y_test = train_test_split(\n",
    "    df[\"text_clean\"],\n",
    "    df[TARGET_COL],\n",
    "    test_size=TEST_SIZE,\n",
    "    random_state=RANDOM_STATE,\n",
    "    stratify=df[TARGET_COL],\n",
    ")"
   ]
  },
  {
   "cell_type": "code",
   "execution_count": 6,
   "id": "23651d35",
   "metadata": {},
   "outputs": [],
   "source": [
    "# ==============================\n",
    "# 4) Pipeline & GridSearchCV (SVM + probabilities)\n",
    "# ==============================\n",
    "from sklearn.svm import LinearSVC\n",
    "from sklearn.calibration import CalibratedClassifierCV\n",
    "\n",
    "pipe = Pipeline([\n",
    "    (\"tfidf\", TfidfVectorizer(\n",
    "        ngram_range=(1, 2),\n",
    "        max_df=0.95,\n",
    "        min_df=5,\n",
    "        max_features=10_000,\n",
    "        sublinear_tf=True,\n",
    "        norm=\"l2\",\n",
    "    )),\n",
    "    (\"clf\", CalibratedClassifierCV(\n",
    "        estimator=LinearSVC(\n",
    "            class_weight=\"balanced\", \n",
    "            max_iter=5000),\n",
    "        cv= 5,\n",
    "        method=\"sigmoid\"\n",
    "    )),\n",
    "])\n",
    "\n",
    "param_grid = {\n",
    "    \"clf__estimator__C\": [0.01, 0.1, 0.5, 1.0, 2.0, 5.0],  \n",
    "    \"tfidf__ngram_range\": [(1,1), (1,2)],    # (1,2) thường tốt với dữ liệu ngắn tài chính\n",
    "    \"tfidf__min_df\": [2, 5],                # tránh min_df = 1 nếu nhiều từ hiếm\n",
    "    \"tfidf__max_df\": [0.9, 0.95],            # loại bỏ từ quá phổ biến\n",
    "    \"tfidf__max_features\": [5_000, 10_000],# với ~5.8k câu, 5k-10k thường đủ\n",
    "    \"tfidf__sublinear_tf\": [True],                 # hay bật để giảm bias từ từ hay lặp\n",
    "    \"tfidf__norm\": [\"l2\", None],                   # thường l2 tốt cho phân lớp\n",
    "}\n",
    "\n",
    "cv = StratifiedKFold(n_splits=N_SPLITS, shuffle=True, random_state=RANDOM_STATE)\n",
    "\n",
    "gs = GridSearchCV(\n",
    "    estimator=pipe,\n",
    "    param_grid=param_grid,\n",
    "    scoring=\"f1_macro\",\n",
    "    cv=cv,\n",
    "    n_jobs=-1,\n",
    "    verbose=1,\n",
    ")"
   ]
  },
  {
   "cell_type": "code",
   "execution_count": 7,
   "id": "2938e3d5",
   "metadata": {},
   "outputs": [
    {
     "name": "stdout",
     "output_type": "stream",
     "text": [
      "Fitting 5 folds for each of 192 candidates, totalling 960 fits\n",
      "Best params: {'clf__estimator__C': 0.1, 'tfidf__max_df': 0.9, 'tfidf__max_features': 5000, 'tfidf__min_df': 5, 'tfidf__ngram_range': (1, 1), 'tfidf__norm': 'l2', 'tfidf__sublinear_tf': True}\n",
      "CV best f1_macro: 0.5751555922084\n",
      "\n",
      "=== Test Accuracy: 0.6869118905047049\n",
      "=== Test Macro-F1: 0.5693598131844279\n",
      "\n",
      "Classification Report:\n",
      "               precision    recall  f1-score   support\n",
      "\n",
      "    negative       0.40      0.19      0.26       172\n",
      "     neutral       0.72      0.84      0.77       626\n",
      "    positive       0.69      0.66      0.68       371\n",
      "\n",
      "    accuracy                           0.69      1169\n",
      "   macro avg       0.60      0.56      0.57      1169\n",
      "weighted avg       0.66      0.69      0.67      1169\n",
      "\n"
     ]
    }
   ],
   "source": [
    "# ==============================\n",
    "# 5) Train + Evaluate\n",
    "# ==============================\n",
    "gs.fit(X_train, y_train)\n",
    "print(\"Best params:\", gs.best_params_)\n",
    "print(\"CV best f1_macro:\", gs.best_score_)\n",
    "\n",
    "best = gs.best_estimator_\n",
    "y_pred = best.predict(X_test)\n",
    "\n",
    "print(\"\\n=== Test Accuracy:\", accuracy_score(y_test, y_pred))\n",
    "print(\"=== Test Macro-F1:\", f1_score(y_test, y_pred, average=\"macro\"))\n",
    "print(\"\\nClassification Report:\\n\", classification_report(y_test, y_pred))"
   ]
  },
  {
   "cell_type": "code",
   "execution_count": 8,
   "id": "97594aa2",
   "metadata": {},
   "outputs": [
    {
     "data": {
      "image/png": "[encoded data removed]",
      "text/plain": [
       "<Figure size 600x400 with 2 Axes>"
      ]
     },
     "metadata": {},
     "output_type": "display_data"
    }
   ],
   "source": [
    "# ==============================\n",
    "# 6) Confusion Matrix\n",
    "# ==============================\n",
    "clf_outer = best.named_steps[\"clf\"]              # CalibratedClassifierCV\n",
    "classes = clf_outer.classes_\n",
    "\n",
    "cm = confusion_matrix(y_test, y_pred, labels=classes)\n",
    "plt.figure(figsize=(6, 4))\n",
    "sns.heatmap(cm, annot=True, fmt=\"d\", cmap=\"Blues\",\n",
    "            xticklabels=classes, yticklabels=classes)\n",
    "plt.xlabel(\"Predicted\"); plt.ylabel(\"Actual\")\n",
    "plt.title(\"Confusion Matrix - LinearSVC + Calibration (GridSearch)\")\n",
    "plt.tight_layout(); plt.show()"
   ]
  },
  {
   "cell_type": "code",
   "execution_count": 9,
   "id": "68266116",
   "metadata": {},
   "outputs": [
    {
     "name": "stdout",
     "output_type": "stream",
     "text": [
      "\n",
      "Top words for class 'negative': ['decreased', 'fall', 'lower', 'currency', 'fell', 'short', 'cut', 'hit', 'drop', 'dropped']\n",
      "\n",
      "Top words for class 'neutral': ['will', 'approximately', 'value', 'includes', 'part', 'not', 'development', 'no', 'developed', 'headquartered']\n",
      "\n",
      "Top words for class 'positive': ['rose', 'increased', 'increase', 'currency', 'buy', 'positive', 'grew', 'signed', 'awarded', 'long']\n"
     ]
    }
   ],
   "source": [
    "# ==============================\n",
    "# 7) Top từ/ngữ quan trọng theo lớp (lấy trung bình coef_ qua các fold)\n",
    "# ==============================\n",
    "tfidf = best.named_steps[\"tfidf\"]\n",
    "feature_names = tfidf.get_feature_names_out()\n",
    "\n",
    "# Mỗi fold calibration có 1 LinearSVC -> lấy trung bình hệ số để diễn giải\n",
    "coefs_stack = np.stack([cc.estimator.coef_ for cc in clf_outer.calibrated_classifiers_], axis=0)\n",
    "coefs_mean = coefs_stack.mean(axis=0)  # (n_classes, n_features)\n",
    "\n",
    "TOPK = 10\n",
    "for i, label in enumerate(classes):\n",
    "    coefs = coefs_mean[i]\n",
    "    top_pos_idx = np.argsort(coefs)[-TOPK:][::-1]\n",
    "    print(f\"\\nTop words for class '{label}': {[feature_names[j] for j in top_pos_idx]}\")\n",
    "\n"
   ]
  },
  {
   "cell_type": "code",
   "execution_count": 11,
   "id": "d4146be2",
   "metadata": {},
   "outputs": [
    {
     "name": "stdout",
     "output_type": "stream",
     "text": [
      "\n",
      "[1] Chuỗi gốc: Dollar falls as traders bet on more rate cuts\n",
      "    Đã làm sạch: dollar fall trader bet rate cut\n",
      "    Nhãn dự đoán: negative\n",
      "    Top xác suất:\n",
      "      - negative: 0.6379\n",
      "      - neutral: 0.3276\n",
      "      - positive: 0.0344\n",
      "\n",
      "[2] Chuỗi gốc: Central Europe's FX to get dollar boost, but forint likely to fall from highs\n",
      "    Đã làm sạch: central europe fx dollar boost, forint likely fall high\n",
      "    Nhãn dự đoán: neutral\n",
      "    Top xác suất:\n",
      "      - neutral: 0.5161\n",
      "      - positive: 0.2619\n",
      "      - negative: 0.2221\n",
      "\n",
      "[3] Chuỗi gốc: Bulgaria sets price controls as euro transition nears\n",
      "    Đã làm sạch: bulgaria set price control euro transition nears\n",
      "    Nhãn dự đoán: neutral\n",
      "    Top xác suất:\n",
      "      - neutral: 0.8275\n",
      "      - negative: 0.0923\n",
      "      - positive: 0.0802\n",
      "\n",
      "[4] Chuỗi gốc: To make economies work for everyone, we need to put a price on social impact\n",
      "    Đã làm sạch: make economy work everyone, need put price social impact\n",
      "    Nhãn dự đoán: neutral\n",
      "    Top xác suất:\n",
      "      - neutral: 0.7442\n",
      "      - negative: 0.2330\n",
      "      - positive: 0.0228\n",
      "\n",
      "[5] Chuỗi gốc: European shares settle lower as investors gauge mixed earnings, EU-US trade progress\n",
      "    Đã làm sạch: european share settle lower investor gauge mixed earnings, eu-us trade progress\n",
      "    Nhãn dự đoán: neutral\n",
      "    Top xác suất:\n",
      "      - neutral: 0.6617\n",
      "      - negative: 0.2708\n",
      "      - positive: 0.0676\n",
      "\n",
      "[6] Chuỗi gốc: What's in the EU's countermeasures to US tariffs?\n",
      "    Đã làm sạch: eu countermeasure u tariff\n",
      "    Nhãn dự đoán: neutral\n",
      "    Top xác suất:\n",
      "      - neutral: 0.5958\n",
      "      - positive: 0.3284\n",
      "      - negative: 0.0758\n",
      "\n",
      "[7] Chuỗi gốc: Syria is secretly reshaping its economy. The president’s brother is in charge.\n",
      "    Đã làm sạch: syria secretly reshaping economy. president s brother charge.\n",
      "    Nhãn dự đoán: neutral\n",
      "    Top xác suất:\n",
      "      - neutral: 0.7514\n",
      "      - negative: 0.1587\n",
      "      - positive: 0.0899\n"
     ]
    }
   ],
   "source": [
    "# ==============================\n",
    "# 8) Hiển thị XÁC SUẤT\n",
    "# ==============================\n",
    "test_sentences = [\n",
    "    \"Dollar falls as traders bet on more rate cuts\",\n",
    "    \"Central Europe's FX to get dollar boost, but forint likely to fall from highs\",\n",
    "    \"Bulgaria sets price controls as euro transition nears\",\n",
    "    \"To make economies work for everyone, we need to put a price on social impact\",\n",
    "    \"European shares settle lower as investors gauge mixed earnings, EU-US trade progress\",\n",
    "    \"What's in the EU's countermeasures to US tariffs?\",\n",
    "    \"Syria is secretly reshaping its economy. The president’s brother is in charge.\",\n",
    "]\n",
    "\n",
    "test_clean_list = [preprocess_text_fin(s) for s in test_sentences]\n",
    "\n",
    "# Lấy classes từ step cuối trong pipeline\n",
    "classes = best.named_steps[\"clf\"].classes_\n",
    "\n",
    "# Dự đoán nhãn\n",
    "pred_labels = best.predict(test_clean_list)\n",
    "\n",
    "# Dự đoán xác suất (nếu có)\n",
    "pred_probas = None\n",
    "pred_probas = best.predict_proba(test_clean_list)\n",
    "\n",
    "TOPK = 3  # số lớp top-k muốn in\n",
    "for i, (raw, clean, pred) in enumerate(zip(test_sentences, test_clean_list, pred_labels), start=1):\n",
    "    print(f\"\\n[{i}] Chuỗi gốc: {raw}\")\n",
    "    print(f\"    Đã làm sạch: {clean}\")\n",
    "    print(f\"    Nhãn dự đoán: {pred}\")\n",
    "\n",
    "    if pred_probas is not None:\n",
    "        probs = pred_probas[i-1]  # dùng chỉ số vòng lặp, tránh .index(raw)\n",
    "        topk = min(TOPK, len(classes))\n",
    "        top_idx = np.argsort(probs)[-topk:][::-1]\n",
    "        print(\"    Top xác suất:\")\n",
    "        for j in top_idx:\n",
    "            print(f\"      - {classes[j]}: {probs[j]:.4f}\")\n",
    "    else:\n",
    "        print(\"    (Model không có predict_proba — bật CalibratedClassifierCV để có xác suất.)\")\n"
   ]
  },
  {
   "cell_type": "code",
   "execution_count": 12,
   "id": "85b6bc20",
   "metadata": {},
   "outputs": [
    {
     "name": "stdout",
     "output_type": "stream",
     "text": [
      "✅ Mô hình đã được lưu vào ../../models/Super_Vector_Machine/SVM_model.pkl\n"
     ]
    }
   ],
   "source": [
    "import pickle\n",
    "\n",
    "# Lưu pipeline đã train\n",
    "with open(\"../../models/Super_Vector_Machine/SVM_model.pkl\", \"wb\") as f:\n",
    "    pickle.dump(best, f)\n",
    "\n",
    "print(\"✅ Mô hình đã được lưu vào ../../models/Super_Vector_Machine/SVM_model.pkl\")"
   ]
  }
 ],
 "metadata": {
  "kernelspec": {
   "display_name": "Python 3",
   "language": "python",
   "name": "python3"
  },
  "language_info": {
   "codemirror_mode": {
    "name": "ipython",
    "version": 3
   },
   "file_extension": ".py",
   "mimetype": "text/x-python",
   "name": "python",
   "nbconvert_exporter": "python",
   "pygments_lexer": "ipython3",
   "version": "3.11.9"
  }
 },
 "nbformat": 4,
 "nbformat_minor": 5
}
